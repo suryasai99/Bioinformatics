{
 "cells": [
  {
   "cell_type": "code",
   "execution_count": 1,
   "metadata": {},
   "outputs": [],
   "source": [
    "import numpy as np\n",
    "import pandas as pd"
   ]
  },
  {
   "cell_type": "code",
   "execution_count": 2,
   "metadata": {},
   "outputs": [],
   "source": [
    "data = pd.read_csv('E:\\\\datasets\\\\splice data.csv',names = ('class','instance name','sequence'))"
   ]
  },
  {
   "cell_type": "code",
   "execution_count": 3,
   "metadata": {},
   "outputs": [],
   "source": [
    "data = np.random.permutation(data)\n",
    "data = pd.DataFrame(data)\n",
    "x = data.iloc[0:,2]\n",
    "y = data.iloc[0:,0]"
   ]
  },
  {
   "cell_type": "code",
   "execution_count": 4,
   "metadata": {},
   "outputs": [
    {
     "data": {
      "text/plain": [
       "0                  CCTCGAGAAGGCAAAGCAGACTCTGGAGAACG...\n",
       "1                 TATGGGGGCACAGGATGAGGAGGAAGGAATCCA...\n",
       "2               GTGCCCATCACCAACGCCACCCTGGACCGGGTGAG...\n",
       "3                    TTGAGGAGAAGATCACACACAGTCCCCTGA...\n",
       "4             TCCCCGTATCTTATCTCTGTCACACTCCAGCTGGTTC...\n",
       "Name: 2, dtype: object"
      ]
     },
     "execution_count": 4,
     "metadata": {},
     "output_type": "execute_result"
    }
   ],
   "source": [
    "x.head()"
   ]
  },
  {
   "cell_type": "markdown",
   "metadata": {},
   "source": [
    "#converting y to int\n",
    "from sklearn.preprocessing import LabelEncoder, OneHotEncoder\n",
    "label = LabelEncoder()\n",
    "y = label.fit_transform(y)"
   ]
  },
  {
   "cell_type": "code",
   "execution_count": 5,
   "metadata": {},
   "outputs": [],
   "source": [
    "def state(u):\n",
    "    for n,i in enumerate(u):\n",
    "        if i == 'IE':\n",
    "            u[n] = 0\n",
    "        elif i == 'N':\n",
    "            u[n] = 1\n",
    "        elif i == 'EI':\n",
    "            u[n] = 2"
   ]
  },
  {
   "cell_type": "code",
   "execution_count": 6,
   "metadata": {},
   "outputs": [],
   "source": [
    "state(y)"
   ]
  },
  {
   "cell_type": "code",
   "execution_count": 7,
   "metadata": {},
   "outputs": [
    {
     "data": {
      "text/plain": [
       "0    1\n",
       "1    1\n",
       "2    2\n",
       "3    1\n",
       "4    0\n",
       "Name: 0, dtype: object"
      ]
     },
     "execution_count": 7,
     "metadata": {},
     "output_type": "execute_result"
    }
   ],
   "source": [
    "y.head()"
   ]
  },
  {
   "cell_type": "code",
   "execution_count": 8,
   "metadata": {},
   "outputs": [
    {
     "name": "stderr",
     "output_type": "stream",
     "text": [
      "Using TensorFlow backend.\n"
     ]
    }
   ],
   "source": [
    "#converting y into matrix\n",
    "from keras.utils import to_categorical\n",
    "y = to_categorical(y)"
   ]
  },
  {
   "cell_type": "code",
   "execution_count": 9,
   "metadata": {},
   "outputs": [],
   "source": [
    "#to remove spaces\n",
    "x=x.str.strip()"
   ]
  },
  {
   "cell_type": "code",
   "execution_count": 10,
   "metadata": {},
   "outputs": [
    {
     "data": {
      "text/plain": [
       "0    CCTCGAGAAGGCAAAGCAGACTCTGGAGAACGAGCGGGGGGAGCTG...\n",
       "1    TATGGGGGCACAGGATGAGGAGGAAGGAATCCAAGACTTGGATGGA...\n",
       "2    GTGCCCATCACCAACGCCACCCTGGACCGGGTGAGTGCCTGGGCTA...\n",
       "3    TTGAGGAGAAGATCACACACAGTCCCCTGACCATCTGCTTCCCTGA...\n",
       "4    TCCCCGTATCTTATCTCTGTCACACTCCAGCTGGTTCCTGCCCTGG...\n",
       "Name: 2, dtype: object"
      ]
     },
     "execution_count": 10,
     "metadata": {},
     "output_type": "execute_result"
    }
   ],
   "source": [
    "x.head()"
   ]
  },
  {
   "cell_type": "code",
   "execution_count": 11,
   "metadata": {},
   "outputs": [],
   "source": [
    "#to convert into kmers\n",
    "def getKmers(x, size=6):\n",
    "    return [x[z:z+size].lower() for z in range(len(x) - size + 1)]\n",
    "\n",
    "x=x.apply(getKmers)"
   ]
  },
  {
   "cell_type": "code",
   "execution_count": 12,
   "metadata": {},
   "outputs": [
    {
     "data": {
      "text/plain": [
       "0       [cctcga, ctcgag, tcgaga, cgagaa, gagaag, agaag...\n",
       "1       [tatggg, atgggg, tggggg, gggggc, ggggca, gggca...\n",
       "2       [gtgccc, tgccca, gcccat, cccatc, ccatca, catca...\n",
       "3       [ttgagg, tgagga, gaggag, aggaga, ggagaa, gagaa...\n",
       "4       [tccccg, ccccgt, cccgta, ccgtat, cgtatc, gtatc...\n",
       "                              ...                        \n",
       "3185    [tactct, actctc, ctctcc, tctcct, ctcctt, tcctt...\n",
       "3186    [atattc, tattcc, attcct, ttccta, tcctaa, cctaa...\n",
       "3187    [catctg, atctga, tctgag, ctgagg, tgaggt, gaggt...\n",
       "3188    [cagctg, agctgc, gctgca, ctgcag, tgcaga, gcaga...\n",
       "3189    [ggcctc, gcctct, cctctc, ctctcc, tctcct, ctcct...\n",
       "Name: 2, Length: 3190, dtype: object"
      ]
     },
     "execution_count": 12,
     "metadata": {},
     "output_type": "execute_result"
    }
   ],
   "source": [
    "x"
   ]
  },
  {
   "cell_type": "code",
   "execution_count": 13,
   "metadata": {},
   "outputs": [
    {
     "data": {
      "text/plain": [
       "'cctcga ctcgag tcgaga cgagaa gagaag agaagg gaaggc aaggca aggcaa ggcaaa gcaaag caaagc aaagca aagcag agcaga gcagac cagact agactc gactct actctg ctctgg tctgga ctggag tggaga ggagaa gagaac agaacg gaacga aacgag acgagc cgagcg gagcgg agcggg gcgggg cggggg gggggg ggggga ggggag gggagc ggagct gagctg agctgg gctggc ctggcc tggcca ggccaa gccaac ccaacg caacga aacgag acgagg cgaggt gaggtg aggtga ggtgaa'"
      ]
     },
     "execution_count": 13,
     "metadata": {},
     "output_type": "execute_result"
    }
   ],
   "source": [
    "#converting words into sentences\n",
    "for i in range(len(x)):\n",
    "    x[i] = ' '.join(x[i])\n",
    "x[0]"
   ]
  },
  {
   "cell_type": "code",
   "execution_count": 14,
   "metadata": {},
   "outputs": [],
   "source": [
    "#dividing the dataset into training set and test set\n",
    "from sklearn.model_selection import train_test_split\n",
    "x_train, x_test, y_train, y_test = train_test_split(x, y, test_size=0.2, random_state=42)"
   ]
  },
  {
   "cell_type": "code",
   "execution_count": 15,
   "metadata": {},
   "outputs": [],
   "source": [
    "import tensorflow as tf\n",
    "from tensorflow import keras\n",
    "from keras.preprocessing.text import Tokenizer\n",
    "from keras.models import Sequential\n",
    "from keras import layers\n",
    "from keras.layers import Dense,Dropout,Activation, Embedding, Flatten, Conv1D, MaxPooling1D, LSTM\n"
   ]
  },
  {
   "cell_type": "code",
   "execution_count": 16,
   "metadata": {},
   "outputs": [
    {
     "name": "stdout",
     "output_type": "stream",
     "text": [
      "Total words 4157\n"
     ]
    }
   ],
   "source": [
    "#converting into vectors\n",
    "tokens = Tokenizer()\n",
    "tokens.fit_on_texts(x_train)\n",
    "x_train = tokens.texts_to_sequences(x_train)\n",
    "x_test = tokens.texts_to_sequences(x_test)\n",
    "\n",
    "vocab_size = len(tokens.word_index) + 1\n",
    "print(\"Total words\", vocab_size)"
   ]
  },
  {
   "cell_type": "code",
   "execution_count": 17,
   "metadata": {},
   "outputs": [],
   "source": [
    "# padding \n",
    "from keras.preprocessing.sequence import pad_sequences\n",
    "maxlen =55\n",
    "\n",
    "x_train = pad_sequences(x_train, padding='post', maxlen=maxlen)\n",
    "x_test = pad_sequences(x_test, padding='post', maxlen=maxlen)\n"
   ]
  },
  {
   "cell_type": "code",
   "execution_count": 18,
   "metadata": {},
   "outputs": [
    {
     "name": "stdout",
     "output_type": "stream",
     "text": [
      "WARNING:tensorflow:From C:\\Users\\suryasai\\Anaconda3\\lib\\site-packages\\keras\\backend\\tensorflow_backend.py:74: The name tf.get_default_graph is deprecated. Please use tf.compat.v1.get_default_graph instead.\n",
      "\n",
      "WARNING:tensorflow:From C:\\Users\\suryasai\\Anaconda3\\lib\\site-packages\\keras\\backend\\tensorflow_backend.py:517: The name tf.placeholder is deprecated. Please use tf.compat.v1.placeholder instead.\n",
      "\n",
      "WARNING:tensorflow:From C:\\Users\\suryasai\\Anaconda3\\lib\\site-packages\\keras\\backend\\tensorflow_backend.py:4138: The name tf.random_uniform is deprecated. Please use tf.random.uniform instead.\n",
      "\n",
      "WARNING:tensorflow:From C:\\Users\\suryasai\\Anaconda3\\lib\\site-packages\\keras\\backend\\tensorflow_backend.py:133: The name tf.placeholder_with_default is deprecated. Please use tf.compat.v1.placeholder_with_default instead.\n",
      "\n",
      "WARNING:tensorflow:From C:\\Users\\suryasai\\Anaconda3\\lib\\site-packages\\keras\\backend\\tensorflow_backend.py:3445: calling dropout (from tensorflow.python.ops.nn_ops) with keep_prob is deprecated and will be removed in a future version.\n",
      "Instructions for updating:\n",
      "Please use `rate` instead of `keep_prob`. Rate should be set to `rate = 1 - keep_prob`.\n",
      "WARNING:tensorflow:From C:\\Users\\suryasai\\Anaconda3\\lib\\site-packages\\keras\\backend\\tensorflow_backend.py:3976: The name tf.nn.max_pool is deprecated. Please use tf.nn.max_pool2d instead.\n",
      "\n",
      "_________________________________________________________________\n",
      "Layer (type)                 Output Shape              Param #   \n",
      "=================================================================\n",
      "embedding_1 (Embedding)      (None, 55, 30)            124710    \n",
      "_________________________________________________________________\n",
      "dropout_1 (Dropout)          (None, 55, 30)            0         \n",
      "_________________________________________________________________\n",
      "conv1d_1 (Conv1D)            (None, 51, 10)            1510      \n",
      "_________________________________________________________________\n",
      "max_pooling1d_1 (MaxPooling1 (None, 25, 10)            0         \n",
      "_________________________________________________________________\n",
      "flatten_1 (Flatten)          (None, 250)               0         \n",
      "_________________________________________________________________\n",
      "dense_1 (Dense)              (None, 20)                5020      \n",
      "_________________________________________________________________\n",
      "dropout_2 (Dropout)          (None, 20)                0         \n",
      "_________________________________________________________________\n",
      "dense_2 (Dense)              (None, 3)                 63        \n",
      "=================================================================\n",
      "Total params: 131,303\n",
      "Trainable params: 131,303\n",
      "Non-trainable params: 0\n",
      "_________________________________________________________________\n"
     ]
    }
   ],
   "source": [
    "model = Sequential()\n",
    "model.add(Embedding(vocab_size,30,input_length=maxlen))\n",
    "model.add(Dropout(0.2))\n",
    "model.add(Conv1D(10, 5,activation='relu'))\n",
    "model.add(MaxPooling1D())\n",
    "model.add(Flatten())\n",
    "model.add(Dense(20,activation='relu'))\n",
    "model.add(Dropout(0.5))\n",
    "model.add(Dense(3,activation='softmax'))\n",
    "model.summary()"
   ]
  },
  {
   "cell_type": "code",
   "execution_count": 19,
   "metadata": {},
   "outputs": [
    {
     "name": "stdout",
     "output_type": "stream",
     "text": [
      "WARNING:tensorflow:From C:\\Users\\suryasai\\Anaconda3\\lib\\site-packages\\keras\\optimizers.py:790: The name tf.train.Optimizer is deprecated. Please use tf.compat.v1.train.Optimizer instead.\n",
      "\n",
      "WARNING:tensorflow:From C:\\Users\\suryasai\\Anaconda3\\lib\\site-packages\\keras\\backend\\tensorflow_backend.py:3295: The name tf.log is deprecated. Please use tf.math.log instead.\n",
      "\n"
     ]
    }
   ],
   "source": [
    "model.compile(optimizer='adam',loss='categorical_crossentropy',metrics=['accuracy'])\n"
   ]
  },
  {
   "cell_type": "code",
   "execution_count": 20,
   "metadata": {},
   "outputs": [
    {
     "name": "stdout",
     "output_type": "stream",
     "text": [
      "WARNING:tensorflow:From C:\\Users\\suryasai\\Anaconda3\\lib\\site-packages\\tensorflow_core\\python\\ops\\math_grad.py:1424: where (from tensorflow.python.ops.array_ops) is deprecated and will be removed in a future version.\n",
      "Instructions for updating:\n",
      "Use tf.where in 2.0, which has the same broadcast rule as np.where\n",
      "WARNING:tensorflow:From C:\\Users\\suryasai\\Anaconda3\\lib\\site-packages\\keras\\backend\\tensorflow_backend.py:986: The name tf.assign_add is deprecated. Please use tf.compat.v1.assign_add instead.\n",
      "\n",
      "WARNING:tensorflow:From C:\\Users\\suryasai\\Anaconda3\\lib\\site-packages\\keras\\backend\\tensorflow_backend.py:973: The name tf.assign is deprecated. Please use tf.compat.v1.assign instead.\n",
      "\n",
      "WARNING:tensorflow:From C:\\Users\\suryasai\\Anaconda3\\lib\\site-packages\\keras\\backend\\tensorflow_backend.py:2741: The name tf.Session is deprecated. Please use tf.compat.v1.Session instead.\n",
      "\n",
      "Train on 2296 samples, validate on 256 samples\n",
      "Epoch 1/20\n",
      "WARNING:tensorflow:From C:\\Users\\suryasai\\Anaconda3\\lib\\site-packages\\keras\\backend\\tensorflow_backend.py:174: The name tf.get_default_session is deprecated. Please use tf.compat.v1.get_default_session instead.\n",
      "\n",
      "WARNING:tensorflow:From C:\\Users\\suryasai\\Anaconda3\\lib\\site-packages\\keras\\backend\\tensorflow_backend.py:181: The name tf.ConfigProto is deprecated. Please use tf.compat.v1.ConfigProto instead.\n",
      "\n",
      "WARNING:tensorflow:From C:\\Users\\suryasai\\Anaconda3\\lib\\site-packages\\keras\\backend\\tensorflow_backend.py:190: The name tf.global_variables is deprecated. Please use tf.compat.v1.global_variables instead.\n",
      "\n",
      "WARNING:tensorflow:From C:\\Users\\suryasai\\Anaconda3\\lib\\site-packages\\keras\\backend\\tensorflow_backend.py:199: The name tf.is_variable_initialized is deprecated. Please use tf.compat.v1.is_variable_initialized instead.\n",
      "\n",
      "WARNING:tensorflow:From C:\\Users\\suryasai\\Anaconda3\\lib\\site-packages\\keras\\backend\\tensorflow_backend.py:206: The name tf.variables_initializer is deprecated. Please use tf.compat.v1.variables_initializer instead.\n",
      "\n",
      "2296/2296 [==============================] - 3s 1ms/step - loss: 0.9848 - acc: 0.5436 - val_loss: 0.7427 - val_acc: 0.7461\n",
      "Epoch 2/20\n",
      "2296/2296 [==============================] - 1s 649us/step - loss: 0.4298 - acc: 0.8454 - val_loss: 0.2320 - val_acc: 0.9180\n",
      "Epoch 3/20\n",
      "2296/2296 [==============================] - 1s 601us/step - loss: 0.1571 - acc: 0.9486 - val_loss: 0.1764 - val_acc: 0.9453\n",
      "Epoch 4/20\n",
      "2296/2296 [==============================] - 2s 665us/step - loss: 0.0950 - acc: 0.9665 - val_loss: 0.1590 - val_acc: 0.9453\n",
      "Epoch 5/20\n",
      "2296/2296 [==============================] - 2s 690us/step - loss: 0.0764 - acc: 0.9695 - val_loss: 0.1911 - val_acc: 0.9414\n",
      "Epoch 6/20\n",
      "2296/2296 [==============================] - 2s 688us/step - loss: 0.0609 - acc: 0.9743 - val_loss: 0.1918 - val_acc: 0.9258\n",
      "Epoch 7/20\n",
      "2296/2296 [==============================] - 2s 669us/step - loss: 0.0574 - acc: 0.9804 - val_loss: 0.1639 - val_acc: 0.9492\n",
      "Epoch 8/20\n",
      "2296/2296 [==============================] - 1s 601us/step - loss: 0.0557 - acc: 0.9774 - val_loss: 0.1807 - val_acc: 0.9414\n",
      "Epoch 9/20\n",
      "2296/2296 [==============================] - 1s 598us/step - loss: 0.0422 - acc: 0.9848 - val_loss: 0.2111 - val_acc: 0.9414\n",
      "Epoch 10/20\n",
      "2296/2296 [==============================] - 1s 603us/step - loss: 0.0438 - acc: 0.9865 - val_loss: 0.2218 - val_acc: 0.9453\n",
      "Epoch 11/20\n",
      "2296/2296 [==============================] - 1s 600us/step - loss: 0.0447 - acc: 0.9821 - val_loss: 0.2485 - val_acc: 0.9297\n",
      "Epoch 12/20\n",
      "2296/2296 [==============================] - 1s 640us/step - loss: 0.0500 - acc: 0.9782 - val_loss: 0.2545 - val_acc: 0.9375\n",
      "Epoch 13/20\n",
      "2296/2296 [==============================] - 1s 602us/step - loss: 0.0479 - acc: 0.9839 - val_loss: 0.2643 - val_acc: 0.9414\n",
      "Epoch 14/20\n",
      "2296/2296 [==============================] - 1s 649us/step - loss: 0.0367 - acc: 0.9882 - val_loss: 0.2849 - val_acc: 0.9297\n",
      "Epoch 15/20\n",
      "2296/2296 [==============================] - 1s 613us/step - loss: 0.0414 - acc: 0.9878 - val_loss: 0.2671 - val_acc: 0.9219\n",
      "Epoch 16/20\n",
      "2296/2296 [==============================] - 1s 635us/step - loss: 0.0400 - acc: 0.9869 - val_loss: 0.3030 - val_acc: 0.9375\n",
      "Epoch 17/20\n",
      "2296/2296 [==============================] - 2s 709us/step - loss: 0.0366 - acc: 0.9861 - val_loss: 0.3059 - val_acc: 0.9258\n",
      "Epoch 18/20\n",
      "2296/2296 [==============================] - 2s 774us/step - loss: 0.0371 - acc: 0.9887 - val_loss: 0.3125 - val_acc: 0.9375\n",
      "Epoch 19/20\n",
      "2296/2296 [==============================] - 2s 716us/step - loss: 0.0406 - acc: 0.9826 - val_loss: 0.3136 - val_acc: 0.9414\n",
      "Epoch 20/20\n",
      "2296/2296 [==============================] - 2s 707us/step - loss: 0.0395 - acc: 0.9848 - val_loss: 0.3278 - val_acc: 0.9336\n"
     ]
    }
   ],
   "source": [
    "history = model.fit(x_train, y_train,validation_split=0.1,epochs=20,verbose=True, batch_size=10)\n"
   ]
  },
  {
   "cell_type": "code",
   "execution_count": 21,
   "metadata": {},
   "outputs": [
    {
     "name": "stdout",
     "output_type": "stream",
     "text": [
      "638/638 [==============================] - 0s 124us/step\n",
      "[0.20979163880667248, 0.942006268471386]\n"
     ]
    }
   ],
   "source": [
    "loss_and_metrics = model.evaluate(x_test, y_test, verbose=1)\n",
    "print(loss_and_metrics)"
   ]
  },
  {
   "cell_type": "code",
   "execution_count": 22,
   "metadata": {},
   "outputs": [],
   "source": [
    "labels = [ '0','1','2']"
   ]
  },
  {
   "cell_type": "code",
   "execution_count": 23,
   "metadata": {},
   "outputs": [],
   "source": [
    "y_pred = model.predict(x_test).round()"
   ]
  },
  {
   "cell_type": "code",
   "execution_count": 24,
   "metadata": {},
   "outputs": [
    {
     "data": {
      "text/plain": [
       "array([[0., 1., 0.],\n",
       "       [0., 1., 0.],\n",
       "       [0., 1., 0.],\n",
       "       ...,\n",
       "       [1., 0., 0.],\n",
       "       [0., 1., 0.],\n",
       "       [0., 1., 0.]], dtype=float32)"
      ]
     },
     "execution_count": 24,
     "metadata": {},
     "output_type": "execute_result"
    }
   ],
   "source": [
    "y_pred"
   ]
  },
  {
   "cell_type": "code",
   "execution_count": 25,
   "metadata": {},
   "outputs": [],
   "source": [
    "from sklearn.metrics import confusion_matrix\n",
    "cm=confusion_matrix(y_test.argmax(axis=1), y_pred.argmax(axis=1))"
   ]
  },
  {
   "cell_type": "code",
   "execution_count": 26,
   "metadata": {},
   "outputs": [
    {
     "data": {
      "text/plain": [
       "array([[145,  14,   5],\n",
       "       [  8, 316,   4],\n",
       "       [  1,   5, 140]], dtype=int64)"
      ]
     },
     "execution_count": 26,
     "metadata": {},
     "output_type": "execute_result"
    }
   ],
   "source": [
    "cm"
   ]
  },
  {
   "cell_type": "code",
   "execution_count": null,
   "metadata": {},
   "outputs": [],
   "source": []
  }
 ],
 "metadata": {
  "kernelspec": {
   "display_name": "Python 3",
   "language": "python",
   "name": "python3"
  },
  "language_info": {
   "codemirror_mode": {
    "name": "ipython",
    "version": 3
   },
   "file_extension": ".py",
   "mimetype": "text/x-python",
   "name": "python",
   "nbconvert_exporter": "python",
   "pygments_lexer": "ipython3",
   "version": "3.7.4"
  }
 },
 "nbformat": 4,
 "nbformat_minor": 2
}
